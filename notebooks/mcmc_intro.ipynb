{
 "cells": [
  {
   "cell_type": "markdown",
   "metadata": {
    "collapsed": true
   },
   "source": [
    "# Introduction to Monte Carlo\n",
    "## Sampling from discrete probability distributions\n",
    "#### Martin Burke, August 2018"
   ]
  },
  {
   "cell_type": "markdown",
   "metadata": {},
   "source": [
    "### Metropolis-Hastings algorithm\n",
    "\n",
    "The Metropolis-Hastings algorithm is another method of obtaining samples from $F$. Like the basic rejection sampler it draws samples from a proposal distribution and accepts them with a given probability. However in this case the denominator of the acceptance probability equation is the previous sample $x_i$, which is also the basis for the next proposal. \n",
    "For example, in the simple rejection sampler we made proposals independently by drawing a random number between two and twelve. In this example we shall propose the new state $x_f$ by drawing a random number (which may be positive or negative) and adding it to $x_i$."
   ]
  },
  {
   "cell_type": "code",
   "execution_count": null,
   "metadata": {},
   "outputs": [],
   "source": [
    "# import some stuff for random number generation, analysis and plotting\n",
    "import numpy as np\n",
    "import pandas as pd\n",
    "from plotnine import *\n",
    "from plotnine.data import *\n",
    "\n",
    "# likelihood function\n",
    "def correct_likelihood(z):\n",
    "    comb = 6 - abs(z - 7)\n",
    "    return comb * 1/36\n",
    "\n",
    "\n",
    "# likelihood estimator\n",
    "def dodgy_likelihood(z):\n",
    "    like = correct_likelihood(z)\n",
    "    pert = (np.random.random() - 0.5) * 0.1\n",
    "    return max(like + pert, 0)"
   ]
  },
  {
   "cell_type": "code",
   "execution_count": null,
   "metadata": {},
   "outputs": [],
   "source": [
    "# metropolis hastings algorithm\n",
    "PROPOSAL = 8    # jump size\n",
    "\n",
    "\n",
    "def met_hastings_alg(steps, likelihood_function):\n",
    "    #initialise\n",
    "    xi = 2\n",
    "    lik_xi = likelihood_function(xi)\n",
    "    lik_err = lik_xi - correct_likelihood(xi)\n",
    "    markov_chain = list()\n",
    "    num_accept = 0\n",
    "    # get some samples\n",
    "    for x in range(1, steps + 1):\n",
    "        # propose new state\n",
    "        xf = xi + np.random.randint(-PROPOSAL, PROPOSAL+1)\n",
    "        # evaluate likelihood\n",
    "        lik_xf = likelihood_function(xf)\n",
    "        # accept with mh probability\n",
    "        accept = False\n",
    "        mh_prop = lik_xf / lik_xi\n",
    "        if mh_prop > 1:\n",
    "            # accept automatically\n",
    "            accept = True\n",
    "        else:\n",
    "            # accept sometimes\n",
    "            if np.random.random() < mh_prop:\n",
    "                accept = True\n",
    "        # add sample to mc\n",
    "        if accept:\n",
    "            num_accept = num_accept + 1\n",
    "        rowi = (x, xi, lik_xi, xf, lik_xf, accept, num_accept / x, lik_err)\n",
    "        markov_chain.append(rowi)\n",
    "        # update xi\n",
    "        if accept:\n",
    "            xi = xf\n",
    "            lik_xi = lik_xf\n",
    "            lik_err = lik_xi - correct_likelihood(xi)\n",
    "    # create data frame and return\n",
    "    return pd.DataFrame(markov_chain, columns=[\"i\", \"xi\", \"lik_xi\", \"xf\", \"lik_xf\", \"accept\", \"ar\", \"lik_err\"])"
   ]
  },
  {
   "cell_type": "code",
   "execution_count": null,
   "metadata": {},
   "outputs": [],
   "source": [
    "# run markov chain \n",
    "mc = met_hastings_alg(100000, dodgy_likelihood)\n",
    "print(mc)\n",
    "trace = ggplot(mc, aes(x = \"i\", y = \"xi\")) + geom_line()\n",
    "p = ggplot(mc, aes(x = \"xi\", y = \"..density..\")) + geom_histogram(binwidth=1)\n",
    "print(trace)"
   ]
  },
  {
   "cell_type": "code",
   "execution_count": null,
   "metadata": {},
   "outputs": [],
   "source": [
    ""
   ]
  }
 ],
 "metadata": {
  "kernelspec": {
   "display_name": "Python 2",
   "language": "python",
   "name": "python2"
  },
  "language_info": {
   "codemirror_mode": {
    "name": "ipython",
    "version": 2
   },
   "file_extension": ".py",
   "mimetype": "text/x-python",
   "name": "python",
   "nbconvert_exporter": "python",
   "pygments_lexer": "ipython2",
   "version": "2.7.6"
  }
 },
 "nbformat": 4,
 "nbformat_minor": 0
}
